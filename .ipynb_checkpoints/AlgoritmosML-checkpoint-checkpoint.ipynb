{
 "cells": [
  {
   "cell_type": "markdown",
   "metadata": {},
   "source": [
    "# Clojure Proyecto Final: Algoritmos de ML \n",
    "## Mauricio Acosta Hernández A01339392\n",
    "## Jorge Alberto Figueroa Peart A01653348"
   ]
  },
  {
   "cell_type": "markdown",
   "metadata": {},
   "source": [
    "### 1.- Investigar en que consiste cada uno de los algoritmos."
   ]
  },
  {
   "attachments": {},
   "cell_type": "markdown",
   "metadata": {},
   "source": [
    "#### kMeans\n",
    "- Es un método para la agrupación de datos. Este se utiliza partiendo los datos en diferentes grupos. El algoritmo trabaja de la siguiente forma, se asigna una observación a cada grupo, este con una media, después por un paso recurso llega a una nueva media para este nuevo grupo.\n",
    "\n",
    "#### Regresión lineal / Regresión logística\n",
    "- Es un modelo matemático utilizado para aproximar la relación que tiene una variable dependiente, las variables independientes, y un término aleatorio. \n",
    "\n",
    "#### Árbol de decisión\n",
    "- Es un modelo que se utiliza armando primero un diagrama de construcciones lógicas, el cual se basa en diferentes reglas y condiciones para representar una toma de decisión para la resolución de un problema. Este se conforma de nodos, los cuales están conectado con flechas y etiquetados.\n"
   ]
  },
  {
   "cell_type": "markdown",
   "metadata": {},
   "source": [
    "### 2.- Seleccionar el algoritmo que quieren usar y justificar por qué ese algoritmo.\n",
    "- Queremos utilizar el algoritmo de regresión lineal porque la mayoria de nuestros datos son numericos y se busca encontrar una relación entre los datos para poder hacer una predicción de los datos futuros."
   ]
  },
  {
   "cell_type": "markdown",
   "metadata": {},
   "source": [
    "### 3.- Identificar el dominio de cada variable.\n",
    "- NA_Sales: Dom f(x)-> (x >=0)\n",
    "- EU_Sales: Dom f(x)-> (x >=0)\n",
    "- JP_Sales: Dom f(x)-> (x >=0)\n",
    "- Other_Sales: Dom f(x)-> (x >=0)\n",
    "- Global_sales: Dom f(x)-> (x >=0)"
   ]
  },
  {
   "cell_type": "markdown",
   "metadata": {},
   "source": [
    "### 4.- Desde Clojure dejar sólo las columnas con las que trabajarán."
   ]
  },
  {
   "cell_type": "markdown",
   "metadata": {},
   "source": [
    "### 5.- Divididir el dataset en memoria usando clojure con el 80% de registros para entrenamiento y el 20% para pruebas."
   ]
  },
  {
   "cell_type": "code",
   "execution_count": null,
   "metadata": {},
   "outputs": [],
   "source": []
  }
 ],
 "metadata": {
  "kernelspec": {
   "display_name": "Clojure (clojupyter=0.3.2=1)",
   "language": "clojure",
   "name": "conda-clojupyter"
  },
  "language_info": {
   "file_extension": ".clj",
   "mimetype": "text/x-clojure",
   "name": "clojure",
   "version": "1.10.1"
  }
 },
 "nbformat": 4,
 "nbformat_minor": 4
}
