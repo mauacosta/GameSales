{
 "cells": [
  {
   "cell_type": "code",
   "execution_count": 2,
   "metadata": {},
   "outputs": [
    {
     "data": {
      "text/plain": [
       "nil"
      ]
     },
     "execution_count": 2,
     "metadata": {},
     "output_type": "execute_result"
    }
   ],
   "source": [
    "(require '[cemerick.pomegranate :refer [add-dependencies]])\n",
    "(add-dependencies :coordinates '[[org.clojure/data.csv \"0.1.2\"]])\n",
    "(require '[clojure.data.csv :as csv])"
   ]
  },
  {
   "cell_type": "code",
   "execution_count": 3,
   "metadata": {},
   "outputs": [
    {
     "data": {
      "text/plain": [
       "#'user/games"
      ]
     },
     "execution_count": 3,
     "metadata": {},
     "output_type": "execute_result"
    }
   ],
   "source": [
    "(def games (drop 1 (with-open [in-file (clojure.java.io/reader \"games.csv\")]\n",
    "    (doall\n",
    "         (csv/read-csv in-file)\n",
    "    )\n",
    ")))"
   ]
  },
  {
   "cell_type": "code",
   "execution_count": 4,
   "metadata": {},
   "outputs": [
    {
     "data": {
      "text/plain": [
       "user.Game"
      ]
     },
     "execution_count": 4,
     "metadata": {},
     "output_type": "execute_result"
    }
   ],
   "source": [
    "(defrecord Game [game platform year genre publisher na_sales eu_sales jp_sales other_sales global_sales critic_score critic_count user_score user_count developer rating])"
   ]
  },
  {
   "cell_type": "code",
   "execution_count": 5,
   "metadata": {},
   "outputs": [
    {
     "data": {
      "text/plain": [
       "#'user/toDouble"
      ]
     },
     "execution_count": 5,
     "metadata": {},
     "output_type": "execute_result"
    }
   ],
   "source": [
    "(defn toInt [n] (Integer. n))\n",
    "(defn toDouble [n] (Double. n))"
   ]
  },
  {
   "cell_type": "code",
   "execution_count": 6,
   "metadata": {},
   "outputs": [
    {
     "data": {
      "text/plain": [
       "#'user/gameToRecord"
      ]
     },
     "execution_count": 6,
     "metadata": {},
     "output_type": "execute_result"
    }
   ],
   "source": [
    "(defn gameToRecord [g] \n",
    "    (Game. \n",
    "         (nth g 0) \n",
    "         (nth g 1) \n",
    "         (toInt (if (number? (nth g 2)) (nth g 5) 2000)) \n",
    "         (nth g 3) \n",
    "         (nth g 4) \n",
    "         (toDouble (if (empty? (nth g 5)) \"0\" (nth g 5))) \n",
    "         (toDouble (if (empty? (nth g 6)) \"0\" (nth g 6))) \n",
    "         (toDouble (if (empty? (nth g 7)) \"0\" (nth g 7) )) \n",
    "         (toDouble (if (empty? (nth g 8)) \"0\" (nth g 8))) \n",
    "         (toDouble (if (empty? (nth g 9)) \"0\" (nth g 9))) \n",
    "         (toDouble (if (empty? (nth g 10)) \"0\" (nth g 10))) \n",
    "         (toDouble (if (empty? (nth g 11)) \"0\" (nth g 11))) \n",
    "         (toDouble (if (empty? (nth g 12)) \"0\" (nth g 12))) \n",
    "         (toDouble (if (empty? (nth g 13)) \"0\" (nth g 13))) \n",
    "         (nth g 14) \n",
    "         (nth g 15))\n",
    ")"
   ]
  },
  {
   "cell_type": "code",
   "execution_count": 7,
   "metadata": {},
   "outputs": [
    {
     "data": {
      "text/plain": [
       "nil"
      ]
     },
     "execution_count": 7,
     "metadata": {},
     "output_type": "execute_result"
    }
   ],
   "source": [
    "(def data (map #(gameToRecord %) games))\n",
    "\n",
    "(ns-unmap (find-ns 'user) 'games)"
   ]
  },
  {
   "cell_type": "code",
   "execution_count": 21,
   "metadata": {},
   "outputs": [
    {
     "data": {
      "text/plain": [
       "#'user/sum"
      ]
     },
     "execution_count": 21,
     "metadata": {},
     "output_type": "execute_result"
    }
   ],
   "source": [
    "(defn sum [data]\n",
    "    (loop [sum 0 i 0 ]\n",
    "        (if (>= i (count data))\n",
    "            sum\n",
    "            (recur (+ sum (:global_sales (nth data i))) (inc i))\n",
    "        )\n",
    "    )\n",
    ")"
   ]
  },
  {
   "cell_type": "code",
   "execution_count": 25,
   "metadata": {},
   "outputs": [
    {
     "data": {
      "text/plain": [
       "#'user/avg"
      ]
     },
     "execution_count": 25,
     "metadata": {},
     "output_type": "execute_result"
    }
   ],
   "source": [
    "(defn avg [data]\n",
    "    (/ (sum data) (count data))\n",
    ")"
   ]
  },
  {
   "cell_type": "code",
   "execution_count": 40,
   "metadata": {},
   "outputs": [
    {
     "data": {
      "text/plain": [
       "#'user/perce"
      ]
     },
     "execution_count": 40,
     "metadata": {},
     "output_type": "execute_result"
    }
   ],
   "source": [
    "(defn perce [data perc]\n",
    "    (if (or (<= perc 0) (> perc 100))\n",
    "        '(Error)\n",
    "        (nth data (int (* (- (count data) 1) (/ perc 100))))\n",
    "    )\n",
    "    \n",
    ")"
   ]
  },
  {
   "cell_type": "code",
   "execution_count": 48,
   "metadata": {},
   "outputs": [
    {
     "data": {
      "text/plain": [
       "#user.Game{:game \"Grand Theft Auto V\", :platform \"PS3\", :year 2000, :genre \"Action\", :publisher \"Take-Two Interactive\", :na_sales 7.02, :eu_sales 9.09, :jp_sales 0.98, :other_sales 3.96, :global_sales 21.04, :critic_score 97.0, :critic_count 50.0, :user_score 8.2, :user_count 3994.0, :developer \"Rockstar North\", :rating \"M\"}"
      ]
     },
     "execution_count": 48,
     "metadata": {},
     "output_type": "execute_result"
    }
   ],
   "source": [
    "(perce data 0.1)"
   ]
  },
  {
   "cell_type": "code",
   "execution_count": 31,
   "metadata": {},
   "outputs": [
    {
     "data": {
      "text/plain": [
       "#user.Game{:game \"Wii Sports\", :platform \"Wii\", :year 2000, :genre \"Sports\", :publisher \"Nintendo\", :na_sales 41.36, :eu_sales 28.96, :jp_sales 3.77, :other_sales 8.45, :global_sales 82.53, :critic_score 76.0, :critic_count 51.0, :user_score 8.0, :user_count 322.0, :developer \"Nintendo\", :rating \"E\"}"
      ]
     },
     "execution_count": 31,
     "metadata": {},
     "output_type": "execute_result"
    }
   ],
   "source": [
    "(nth data (int 0))"
   ]
  },
  {
   "cell_type": "code",
   "execution_count": null,
   "metadata": {},
   "outputs": [],
   "source": []
  }
 ],
 "metadata": {
  "kernelspec": {
   "display_name": "Clojure (clojupyter=0.3.2=1)",
   "language": "clojure",
   "name": "conda-clojupyter"
  },
  "language_info": {
   "file_extension": ".clj",
   "mimetype": "text/x-clojure",
   "name": "clojure",
   "version": "1.10.1"
  }
 },
 "nbformat": 4,
 "nbformat_minor": 4
}
