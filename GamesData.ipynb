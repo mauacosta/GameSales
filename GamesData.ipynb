{
 "cells": [
  {
   "cell_type": "code",
   "execution_count": null,
   "metadata": {},
   "outputs": [],
   "source": [
    "(require '[cemerick.pomegranate :refer [add-dependencies]])\n",
    "(add-dependencies :coordinates '[[org.clojure/data.csv \"0.1.2\"]])\n",
    "(require '[clojure.data.csv :as csv])"
   ]
  },
  {
   "cell_type": "code",
   "execution_count": null,
   "metadata": {},
   "outputs": [],
   "source": [
    "(def games (drop 1 (with-open [in-file (clojure.java.io/reader \"games.csv\")]\n",
    "    (doall\n",
    "         (csv/read-csv in-file)\n",
    "    )\n",
    ")))"
   ]
  },
  {
   "cell_type": "code",
   "execution_count": null,
   "metadata": {},
   "outputs": [],
   "source": [
    "(defrecord Game [game platform year genre publisher na_sales eu_sales jp_sales other_sales global_sales critic_score critic_count user_score user_count developer rating])"
   ]
  },
  {
   "cell_type": "code",
   "execution_count": null,
   "metadata": {},
   "outputs": [],
   "source": [
    "(defn toInt [n] (Integer. n))\n",
    "(defn toDouble [n] (Double. n))"
   ]
  },
  {
   "cell_type": "code",
   "execution_count": null,
   "metadata": {},
   "outputs": [],
   "source": [
    "games"
   ]
  },
  {
   "cell_type": "code",
   "execution_count": null,
   "metadata": {},
   "outputs": [],
   "source": [
    "(defn gameToRecord [g] \n",
    "    (Game. (nth g 0) \n",
    "           (nth g 1) \n",
    "           (toInt (if (number? (nth g 2)) (nth g 5) 2000)) \n",
    "           (nth g 3) \n",
    "           (nth g 4) \n",
    "           (toDouble (if (empty? (nth g 5)) \"0\" (nth g 5))) \n",
    "           (toDouble (if (empty? (nth g 6)) \"0\" (nth g 6))) \n",
    "           (toDouble (if (empty? (nth g 7)) \"0\" (nth g 7) )) \n",
    "           (toDouble (if (empty? (nth g 8)) \"0\" (nth g 8))) \n",
    "           (toDouble (if (empty? (nth g 9)) \"0\" (nth g 9))) \n",
    "           (toDouble (if (empty? (nth g 10)) \"0\" (nth g 10))) \n",
    "           (toDouble (if (empty? (nth g 11)) \"0\" (nth g 11))) \n",
    "           (toDouble (if (empty? (nth g 12)) \"0\" (nth g 12))) \n",
    "           (toDouble (if (empty? (nth g 13)) \"0\" (nth g 13))) \n",
    "           (nth g 14) \n",
    "           (nth g 15))\n",
    ")"
   ]
  },
  {
   "cell_type": "code",
   "execution_count": null,
   "metadata": {},
   "outputs": [],
   "source": [
    "(map #(gameToRecord %) games)"
   ]
  },
  {
   "cell_type": "code",
   "execution_count": null,
   "metadata": {},
   "outputs": [],
   "source": []
  }
 ],
 "metadata": {
  "kernelspec": {
   "display_name": "Clojure (clojupyter=0.3.2=1)",
   "language": "clojure",
   "name": "conda-clojupyter"
  },
  "language_info": {
   "file_extension": ".clj",
   "mimetype": "text/x-clojure",
   "name": "clojure",
   "version": "1.10.1"
  }
 },
 "nbformat": 4,
 "nbformat_minor": 4
}
