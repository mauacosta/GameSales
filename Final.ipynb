{
 "cells": [
  {
   "cell_type": "code",
   "execution_count": null,
   "metadata": {},
   "outputs": [],
   "source": [
    "(require '[clojupyter.misc.helper :as helper])\n",
    "(helper/add-dependencies '[incanter \"1.5.7\"])\n",
    "(use '(incanter core stats charts io datasets ))"
   ]
  },
  {
   "cell_type": "code",
   "execution_count": null,
   "metadata": {},
   "outputs": [],
   "source": [
    "(require '[cemerick.pomegranate :refer [add-dependencies]])\n",
    "(add-dependencies :coordinates '[[org.clojure/data.csv \"0.1.2\"]])\n",
    "(require '[clojure.data.csv :as csv])"
   ]
  },
  {
   "cell_type": "code",
   "execution_count": null,
   "metadata": {},
   "outputs": [],
   "source": [
    "(def games (drop 1 (with-open [in-file (clojure.java.io/reader \"games.csv\")]\n",
    "    (doall\n",
    "         (csv/read-csv in-file)\n",
    "    )\n",
    ")))\n",
    "\n",
    "(defrecord Game [game west_sales global_sales])\n",
    "\n",
    "(defn toInt [n] (Integer. n))\n",
    "(defn toDouble [n] (Double. n))\n",
    "(defn square [n] (* n n))\n",
    "(defn avg [items] (/ (reduce + items) (count items)))\n",
    "(defn error [aprox real] (* (/ (abs (- aprox real)) real) 100))\n",
    "\n",
    "(defn gameToRecord [g] \n",
    "    (Game. \n",
    "         (nth g 0)\n",
    "         (if (and (empty? (nth g 5)) (empty? (nth g 6))) 0 (+ (toDouble (nth g 5)) (toDouble (nth g 6))))\n",
    "         (toDouble (if (empty? (nth g 9)) \"0\" (nth g 9))) \n",
    "    )\n",
    ")\n",
    "\n",
    "(def data (map #(gameToRecord %) games))\n",
    "\n",
    "(ns-unmap (find-ns 'user) 'games)\n",
    "\n",
    "(def shuffledData (shuffle data))\n",
    "(def trainingData (take (int (* (count data) 0.8)) shuffledData))\n",
    "(def testData (take-last (int (* (count data) 0.2)) shuffledData))\n",
    "\n",
    "(ns-unmap (find-ns 'user) 'data)\n",
    "(ns-unmap (find-ns 'user) 'shuffledData)"
   ]
  },
  {
   "cell_type": "code",
   "execution_count": null,
   "metadata": {},
   "outputs": [],
   "source": [
    "(def ventasWest (map #(:west_sales %) trainingData))\n",
    "(def ventasGlobal (map #(:global_sales %) trainingData))"
   ]
  },
  {
   "cell_type": "code",
   "execution_count": null,
   "metadata": {},
   "outputs": [],
   "source": [
    "(-> (scatter-plot ventasWest\n",
    "                 ventasGlobal\n",
    "                 :x-label \"Ventas Occidente\" :y-label \"Ventas Mundiales\")\n",
    "    (.createBufferedImage 600 400)\n",
    ")"
   ]
  },
  {
   "cell_type": "code",
   "execution_count": null,
   "metadata": {},
   "outputs": [],
   "source": [
    "(def avgWest (avg ventasWest))\n",
    "(def avgGlobal (avg ventasGlobal))\n",
    "\n",
    "(def m \n",
    "    (/ \n",
    "        (reduce + (map #(* (- (:west_sales %) avgWest) (- (:global_sales %) avgGlobal)) trainingData))\n",
    "        (reduce + (map #(square (- (:west_sales %) avgGlobal)) trainingData))\n",
    "    )\n",
    ")\n",
    "(def c (- avgGlobal (* avgWest m)))\n",
    "\n",
    "(defn eq [x] (+ (* x m) c) )\n"
   ]
  },
  {
   "cell_type": "code",
   "execution_count": null,
   "metadata": {},
   "outputs": [],
   "source": [
    "(-> (scatter-plot ventasWest\n",
    "                  ventasGlobal\n",
    "                  :x-label \"Ventas Occidente\" :y-label \"Ventas Mundiales\")\n",
    "    (add-function eq 0 (+ (reduce max ventasWest) 1))\n",
    "    (.createBufferedImage 600 400)\n",
    ")"
   ]
  },
  {
   "cell_type": "code",
   "execution_count": null,
   "metadata": {},
   "outputs": [],
   "source": [
    ";;Promedio de porcentaje de error en datos de prueba\n",
    "(avg (map #(error (eq (:west_sales %)) (:global_sales %)) testData))"
   ]
  },
  {
   "cell_type": "code",
   "execution_count": null,
   "metadata": {},
   "outputs": [],
   "source": []
  }
 ],
 "metadata": {
  "kernelspec": {
   "display_name": "Clojure (clojupyter=0.3.2=1)",
   "language": "clojure",
   "name": "conda-clojupyter"
  },
  "language_info": {
   "file_extension": ".clj",
   "mimetype": "text/x-clojure",
   "name": "clojure",
   "version": "1.10.1"
  }
 },
 "nbformat": 4,
 "nbformat_minor": 4
}
